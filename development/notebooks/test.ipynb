{
 "cells": [
  {
   "cell_type": "code",
   "execution_count": 1,
   "metadata": {},
   "outputs": [],
   "source": [
    "import pandas as pd"
   ]
  },
  {
   "cell_type": "code",
   "execution_count": 21,
   "metadata": {},
   "outputs": [],
   "source": [
    "def check(file_path):\n",
    "    df = pd.read_csv(file_path)\n",
    "\n",
    "    col_pre = df.columns.to_list()\n",
    "\n",
    "    df.drop(columns=['id'], inplace=True)\n",
    "    df.fillna('empty', inplace=True)\n",
    "    if \"train\" in file_path:\n",
    "        df[\"outcome\"] = df[\"outcome\"].replace({\"died\": 0, \"lived\": 1, \"euthanized\": -1})\n",
    "    df = pd.get_dummies(df)\n",
    "\n",
    "    col_post = df.columns.to_list()\n",
    "\n",
    "    print(len(col_pre), len(col_post))\n",
    "    \n",
    "    return col_pre, col_post"
   ]
  },
  {
   "cell_type": "code",
   "execution_count": 22,
   "metadata": {},
   "outputs": [
    {
     "name": "stdout",
     "output_type": "stream",
     "text": [
      "29 84\n"
     ]
    }
   ],
   "source": [
    "_1, _2 = check(\"../../data/train.csv\")"
   ]
  },
  {
   "cell_type": "code",
   "execution_count": 23,
   "metadata": {},
   "outputs": [
    {
     "name": "stdout",
     "output_type": "stream",
     "text": [
      "28 80\n"
     ]
    }
   ],
   "source": [
    "_3, _4 = check(\"../../data/test.csv\")"
   ]
  },
  {
   "cell_type": "code",
   "execution_count": 24,
   "metadata": {},
   "outputs": [
    {
     "data": {
      "text/plain": [
       "['id',\n",
       " 'surgery',\n",
       " 'age',\n",
       " 'hospital_number',\n",
       " 'rectal_temp',\n",
       " 'pulse',\n",
       " 'respiratory_rate',\n",
       " 'temp_of_extremities',\n",
       " 'peripheral_pulse',\n",
       " 'mucous_membrane',\n",
       " 'capillary_refill_time',\n",
       " 'pain',\n",
       " 'peristalsis',\n",
       " 'abdominal_distention',\n",
       " 'nasogastric_tube',\n",
       " 'nasogastric_reflux',\n",
       " 'nasogastric_reflux_ph',\n",
       " 'rectal_exam_feces',\n",
       " 'abdomen',\n",
       " 'packed_cell_volume',\n",
       " 'total_protein',\n",
       " 'abdomo_appearance',\n",
       " 'abdomo_protein',\n",
       " 'surgical_lesion',\n",
       " 'lesion_1',\n",
       " 'lesion_2',\n",
       " 'lesion_3',\n",
       " 'cp_data',\n",
       " 'outcome']"
      ]
     },
     "execution_count": 24,
     "metadata": {},
     "output_type": "execute_result"
    }
   ],
   "source": [
    "_1"
   ]
  },
  {
   "cell_type": "code",
   "execution_count": 25,
   "metadata": {},
   "outputs": [
    {
     "data": {
      "text/plain": [
       "['hospital_number',\n",
       " 'rectal_temp',\n",
       " 'pulse',\n",
       " 'respiratory_rate',\n",
       " 'nasogastric_reflux_ph',\n",
       " 'packed_cell_volume',\n",
       " 'total_protein',\n",
       " 'abdomo_protein',\n",
       " 'lesion_1',\n",
       " 'lesion_2',\n",
       " 'lesion_3',\n",
       " 'outcome',\n",
       " 'surgery_no',\n",
       " 'surgery_yes',\n",
       " 'age_adult',\n",
       " 'age_young',\n",
       " 'temp_of_extremities_cold',\n",
       " 'temp_of_extremities_cool',\n",
       " 'temp_of_extremities_empty',\n",
       " 'temp_of_extremities_normal',\n",
       " 'temp_of_extremities_warm',\n",
       " 'peripheral_pulse_absent',\n",
       " 'peripheral_pulse_empty',\n",
       " 'peripheral_pulse_increased',\n",
       " 'peripheral_pulse_normal',\n",
       " 'peripheral_pulse_reduced',\n",
       " 'mucous_membrane_bright_pink',\n",
       " 'mucous_membrane_bright_red',\n",
       " 'mucous_membrane_dark_cyanotic',\n",
       " 'mucous_membrane_empty',\n",
       " 'mucous_membrane_normal_pink',\n",
       " 'mucous_membrane_pale_cyanotic',\n",
       " 'mucous_membrane_pale_pink',\n",
       " 'capillary_refill_time_3',\n",
       " 'capillary_refill_time_empty',\n",
       " 'capillary_refill_time_less_3_sec',\n",
       " 'capillary_refill_time_more_3_sec',\n",
       " 'pain_alert',\n",
       " 'pain_depressed',\n",
       " 'pain_empty',\n",
       " 'pain_extreme_pain',\n",
       " 'pain_mild_pain',\n",
       " 'pain_severe_pain',\n",
       " 'pain_slight',\n",
       " 'peristalsis_absent',\n",
       " 'peristalsis_distend_small',\n",
       " 'peristalsis_empty',\n",
       " 'peristalsis_hypermotile',\n",
       " 'peristalsis_hypomotile',\n",
       " 'peristalsis_normal',\n",
       " 'abdominal_distention_empty',\n",
       " 'abdominal_distention_moderate',\n",
       " 'abdominal_distention_none',\n",
       " 'abdominal_distention_severe',\n",
       " 'abdominal_distention_slight',\n",
       " 'nasogastric_tube_empty',\n",
       " 'nasogastric_tube_none',\n",
       " 'nasogastric_tube_significant',\n",
       " 'nasogastric_tube_slight',\n",
       " 'nasogastric_reflux_empty',\n",
       " 'nasogastric_reflux_less_1_liter',\n",
       " 'nasogastric_reflux_more_1_liter',\n",
       " 'nasogastric_reflux_none',\n",
       " 'nasogastric_reflux_slight',\n",
       " 'rectal_exam_feces_absent',\n",
       " 'rectal_exam_feces_decreased',\n",
       " 'rectal_exam_feces_empty',\n",
       " 'rectal_exam_feces_increased',\n",
       " 'rectal_exam_feces_normal',\n",
       " 'rectal_exam_feces_serosanguious',\n",
       " 'abdomen_distend_large',\n",
       " 'abdomen_distend_small',\n",
       " 'abdomen_empty',\n",
       " 'abdomen_firm',\n",
       " 'abdomen_normal',\n",
       " 'abdomen_other',\n",
       " 'abdomo_appearance_clear',\n",
       " 'abdomo_appearance_cloudy',\n",
       " 'abdomo_appearance_empty',\n",
       " 'abdomo_appearance_serosanguious',\n",
       " 'surgical_lesion_no',\n",
       " 'surgical_lesion_yes',\n",
       " 'cp_data_no',\n",
       " 'cp_data_yes']"
      ]
     },
     "execution_count": 25,
     "metadata": {},
     "output_type": "execute_result"
    }
   ],
   "source": [
    "_2"
   ]
  },
  {
   "cell_type": "code",
   "execution_count": 26,
   "metadata": {},
   "outputs": [
    {
     "data": {
      "text/plain": [
       "['id',\n",
       " 'surgery',\n",
       " 'age',\n",
       " 'hospital_number',\n",
       " 'rectal_temp',\n",
       " 'pulse',\n",
       " 'respiratory_rate',\n",
       " 'temp_of_extremities',\n",
       " 'peripheral_pulse',\n",
       " 'mucous_membrane',\n",
       " 'capillary_refill_time',\n",
       " 'pain',\n",
       " 'peristalsis',\n",
       " 'abdominal_distention',\n",
       " 'nasogastric_tube',\n",
       " 'nasogastric_reflux',\n",
       " 'nasogastric_reflux_ph',\n",
       " 'rectal_exam_feces',\n",
       " 'abdomen',\n",
       " 'packed_cell_volume',\n",
       " 'total_protein',\n",
       " 'abdomo_appearance',\n",
       " 'abdomo_protein',\n",
       " 'surgical_lesion',\n",
       " 'lesion_1',\n",
       " 'lesion_2',\n",
       " 'lesion_3',\n",
       " 'cp_data']"
      ]
     },
     "execution_count": 26,
     "metadata": {},
     "output_type": "execute_result"
    }
   ],
   "source": [
    "_3"
   ]
  },
  {
   "cell_type": "code",
   "execution_count": 27,
   "metadata": {},
   "outputs": [
    {
     "data": {
      "text/plain": [
       "['hospital_number',\n",
       " 'rectal_temp',\n",
       " 'pulse',\n",
       " 'respiratory_rate',\n",
       " 'nasogastric_reflux_ph',\n",
       " 'packed_cell_volume',\n",
       " 'total_protein',\n",
       " 'abdomo_protein',\n",
       " 'lesion_1',\n",
       " 'lesion_2',\n",
       " 'lesion_3',\n",
       " 'surgery_no',\n",
       " 'surgery_yes',\n",
       " 'age_adult',\n",
       " 'age_young',\n",
       " 'temp_of_extremities_cold',\n",
       " 'temp_of_extremities_cool',\n",
       " 'temp_of_extremities_empty',\n",
       " 'temp_of_extremities_normal',\n",
       " 'temp_of_extremities_warm',\n",
       " 'peripheral_pulse_absent',\n",
       " 'peripheral_pulse_empty',\n",
       " 'peripheral_pulse_increased',\n",
       " 'peripheral_pulse_normal',\n",
       " 'peripheral_pulse_reduced',\n",
       " 'mucous_membrane_bright_pink',\n",
       " 'mucous_membrane_bright_red',\n",
       " 'mucous_membrane_dark_cyanotic',\n",
       " 'mucous_membrane_empty',\n",
       " 'mucous_membrane_normal_pink',\n",
       " 'mucous_membrane_pale_cyanotic',\n",
       " 'mucous_membrane_pale_pink',\n",
       " 'capillary_refill_time_3',\n",
       " 'capillary_refill_time_empty',\n",
       " 'capillary_refill_time_less_3_sec',\n",
       " 'capillary_refill_time_more_3_sec',\n",
       " 'pain_alert',\n",
       " 'pain_depressed',\n",
       " 'pain_empty',\n",
       " 'pain_extreme_pain',\n",
       " 'pain_mild_pain',\n",
       " 'pain_moderate',\n",
       " 'pain_severe_pain',\n",
       " 'peristalsis_absent',\n",
       " 'peristalsis_empty',\n",
       " 'peristalsis_hypermotile',\n",
       " 'peristalsis_hypomotile',\n",
       " 'peristalsis_normal',\n",
       " 'abdominal_distention_empty',\n",
       " 'abdominal_distention_moderate',\n",
       " 'abdominal_distention_none',\n",
       " 'abdominal_distention_severe',\n",
       " 'abdominal_distention_slight',\n",
       " 'nasogastric_tube_empty',\n",
       " 'nasogastric_tube_none',\n",
       " 'nasogastric_tube_significant',\n",
       " 'nasogastric_tube_slight',\n",
       " 'nasogastric_reflux_empty',\n",
       " 'nasogastric_reflux_less_1_liter',\n",
       " 'nasogastric_reflux_more_1_liter',\n",
       " 'nasogastric_reflux_none',\n",
       " 'rectal_exam_feces_absent',\n",
       " 'rectal_exam_feces_decreased',\n",
       " 'rectal_exam_feces_empty',\n",
       " 'rectal_exam_feces_increased',\n",
       " 'rectal_exam_feces_normal',\n",
       " 'abdomen_distend_large',\n",
       " 'abdomen_distend_small',\n",
       " 'abdomen_empty',\n",
       " 'abdomen_firm',\n",
       " 'abdomen_normal',\n",
       " 'abdomen_other',\n",
       " 'abdomo_appearance_clear',\n",
       " 'abdomo_appearance_cloudy',\n",
       " 'abdomo_appearance_empty',\n",
       " 'abdomo_appearance_serosanguious',\n",
       " 'surgical_lesion_no',\n",
       " 'surgical_lesion_yes',\n",
       " 'cp_data_no',\n",
       " 'cp_data_yes']"
      ]
     },
     "execution_count": 27,
     "metadata": {},
     "output_type": "execute_result"
    }
   ],
   "source": [
    "_4"
   ]
  },
  {
   "cell_type": "code",
   "execution_count": 30,
   "metadata": {},
   "outputs": [
    {
     "data": {
      "text/plain": [
       "array([0.01, 0.11, 0.21, 0.31, 0.41, 0.51, 0.61, 0.71, 0.81, 0.91])"
      ]
     },
     "execution_count": 30,
     "metadata": {},
     "output_type": "execute_result"
    }
   ],
   "source": [
    "import numpy as np\n",
    "np.arange(0.01, 1, .1)"
   ]
  },
  {
   "cell_type": "code",
   "execution_count": null,
   "metadata": {},
   "outputs": [],
   "source": []
  }
 ],
 "metadata": {
  "kernelspec": {
   "display_name": "venv",
   "language": "python",
   "name": "python3"
  },
  "language_info": {
   "codemirror_mode": {
    "name": "ipython",
    "version": 3
   },
   "file_extension": ".py",
   "mimetype": "text/x-python",
   "name": "python",
   "nbconvert_exporter": "python",
   "pygments_lexer": "ipython3",
   "version": "3.9.13"
  },
  "orig_nbformat": 4
 },
 "nbformat": 4,
 "nbformat_minor": 2
}
